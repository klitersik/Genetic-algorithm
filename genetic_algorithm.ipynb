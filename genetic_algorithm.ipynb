{
  "nbformat": 4,
  "nbformat_minor": 0,
  "metadata": {
    "colab": {
      "name": "algorytm_genetyczny.ipynb",
      "provenance": []
    },
    "kernelspec": {
      "name": "python3",
      "display_name": "Python 3"
    },
    "language_info": {
      "name": "python"
    },
    "accelerator": "GPU",
    "gpuClass": "standard"
  },
  "cells": [
    {
      "cell_type": "code",
      "execution_count": null,
      "metadata": {
        "id": "AixFl9npxH9D"
      },
      "outputs": [],
      "source": [
        "import numpy as np\n",
        "import random\n",
        "import matplotlib.pyplot as plt\n",
        "from itertools import combinations\n",
        "from scipy.special import softmax\n",
        "from sklearn.datasets import load_digits\n",
        "import matplotlib.pyplot as plt\n",
        "import numpy as np\n",
        "from sklearn.preprocessing import MinMaxScaler\n",
        "from tensorflow.keras.utils import to_categorical\n",
        "from tensorflow.keras import models\n",
        "from tensorflow.keras import layers\n",
        "from tensorflow.keras.utils import plot_model\n",
        "from tensorflow.keras.callbacks import EarlyStopping\n",
        "from tensorflow.keras.callbacks import TensorBoard\n",
        "import os\n",
        "import datetime\n",
        "import tensorflow as tf\n",
        "from sklearn.model_selection import train_test_split\n",
        "%load_ext tensorboard"
      ]
    },
    {
      "cell_type": "code",
      "source": [
        "def score_from_model(parent):\n",
        "\n",
        "    X, y = load_digits(return_X_y=True)\n",
        "    MinMaxScaler(copy=False).fit_transform(X)\n",
        "    X = X.reshape(X.shape[0], 8, 8, 1).astype('float32')\n",
        "    y = to_categorical(y)\n",
        "    model_1 = models.Sequential()\n",
        "\n",
        "    model_1.add(layers.InputLayer(input_shape=(8, 8, 1), name='input'))\n",
        "\n",
        "    model_1.add(layers.Flatten(name='flatten'))\n",
        "\n",
        "    model_1.add(layers.Dense(sum(parent) * 8, activation='relu', name='hidden1'))\n",
        "\n",
        "    model_1.add(layers.Dense(10, activation='softmax', name='output'))  \n",
        "\n",
        "    model_1.compile(optimizer='rmsprop', loss='categorical_crossentropy', metrics=['accuracy'])\n",
        "    plot_model(model_1, show_shapes=True, show_layer_activations=True)\n",
        "    val_stop = EarlyStopping(monitor='val_loss', patience=5)\n",
        "    logdir = os.path.join(\"logs\", datetime.datetime.now().strftime(\"%Y%m%d-%H%M%S\"))\n",
        "    tb = TensorBoard(logdir, histogram_freq=1)\n",
        "    X_train, X_test, y_train, y_test = train_test_split(X, y, test_size=0.25, stratify=y, random_state=42)\n",
        "    X_train.shape, y_train.shape, X_test.shape, y_test.shape\n",
        "\n",
        "    fit_1 = model_1.fit(X_train, y_train, \n",
        "                    epochs=10, \n",
        "                    # batch_size=32,\n",
        "                    callbacks=[val_stop, tb],\n",
        "                    validation_data=(X_test, y_test),verbose=0)\n",
        "    \n",
        "    return np.sum(fit_1.history['accuracy'])"
      ],
      "metadata": {
        "id": "6ZXh6ik_8nzP"
      },
      "execution_count": null,
      "outputs": []
    },
    {
      "cell_type": "code",
      "source": [
        "class Gen:\n",
        "\n",
        "    def __init__(self, n_iter=10, rgen=1):\n",
        "        #self.rgen = np.random.seed(rgen)\n",
        "        self.n_iter = n_iter\n",
        "        self.population = []\n",
        "\n",
        "    def generate_population(self):\n",
        "        tmp = []\n",
        "        for i in range(6*8):\n",
        "            tmp.append(np.random.choice([0,1]))\n",
        "        self.population = np.split(np.array(tmp),6)\n",
        "\n",
        "    def pick_best_parents(self):\n",
        "        self.scores = []\n",
        "        for i in self.population:\n",
        "            self.scores.append(score_from_model(i))\n",
        "        self.result = softmax(self.scores)\n",
        "        best_index = np.random.choice(6, 3, replace = False, p = self.result).tolist()\n",
        "        self.best = []\n",
        "        for i in best_index:\n",
        "            self.best.append(self.population[i])\n",
        "        tmp = np.array(self.scores)\n",
        "        index = tmp.argsort()[-1:][::-1]\n",
        "        self.best_best = self.population[index[0]]\n",
        "        self.best_perc = self.scores[index[0]]\n",
        "\n",
        "\n",
        "    def cross_over(self):\n",
        "        self.childs = []\n",
        "        child_1 = []\n",
        "        child_2 = []\n",
        "        c = random.randint(0, 7)\n",
        "        comb = np.array(list(combinations([0,1,2],2))).tolist()\n",
        "        for i in comb:\n",
        "            child_1 = self.best[i[0]]\n",
        "            child_2 = self.best[i[1]]\n",
        "            for j in range(c,7):\n",
        "                child_1[j], child_2[j] = child_2[j], child_1[j]\n",
        "            self.childs.append(child_1)\n",
        "            self.childs.append(child_2)\n",
        "\n",
        "    def mutation(self):\n",
        "        for i in range(len(self.childs)):\n",
        "            r = random.randint(0,100)\n",
        "            if r == 1:\n",
        "                r_2 = random.randint(0,7)\n",
        "                if self.childs[i][r_2] == 1:\n",
        "                    self.childs[i][r_2] = 0\n",
        "                else:\n",
        "                    self.childs[i][r_2] = 1"
      ],
      "metadata": {
        "id": "euclMDaiy4U7"
      },
      "execution_count": null,
      "outputs": []
    },
    {
      "cell_type": "code",
      "source": [
        "gen = Gen()\n",
        "gen.generate_population()\n",
        "results = []\n",
        "for i in range(20):\n",
        "    gen.pick_best_parents()\n",
        "    print(gen.best_best,gen.best_perc)\n",
        "    results.append(gen.scores[0])\n",
        "    gen.cross_over()\n",
        "    gen.mutation()\n",
        "    gen.population = gen.childs"
      ],
      "metadata": {
        "id": "7FsRUZRa1nUk"
      },
      "execution_count": null,
      "outputs": []
    },
    {
      "cell_type": "code",
      "source": [
        "plt.plot(results)"
      ],
      "metadata": {
        "id": "8l_mcnMlcBUm"
      },
      "execution_count": null,
      "outputs": []
    }
  ]
}